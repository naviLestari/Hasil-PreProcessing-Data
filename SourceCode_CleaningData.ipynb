{
 "cells": [
  {
   "cell_type": "code",
   "execution_count": 1,
   "metadata": {},
   "outputs": [],
   "source": [
    "import pandas as pd\n",
    "import matplotlib.pyplot as plt\n",
    "%matplotlib inline\n",
    "import nltk\n",
    "from nltk import word_tokenize, sent_tokenize\n",
    "from nltk.corpus import stopwords\n",
    "from nltk.stem import LancasterStemmer, WordNetLemmatizer, PorterStemmer\n",
    "from wordcloud import WordCloud, STOPWORDS\n",
    "from textblob import TextBlob"
   ]
  },
  {
   "cell_type": "code",
   "execution_count": 47,
   "metadata": {},
   "outputs": [
    {
     "data": {
      "text/plain": [
       "(81757, 2)"
      ]
     },
     "execution_count": 47,
     "metadata": {},
     "output_type": "execute_result"
    }
   ],
   "source": [
    "Isp_review = pd.read_csv(\"DataCrawl_indihome_V4.csv\")\n",
    "\n",
    "Isp_review.shape  #untuk melihat Berapa baris, berapa kolom"
   ]
  },
  {
   "cell_type": "code",
   "execution_count": 48,
   "metadata": {},
   "outputs": [
    {
     "data": {
      "text/plain": [
       "Index(['Tgl', 'Tweet'], dtype='object')"
      ]
     },
     "execution_count": 48,
     "metadata": {},
     "output_type": "execute_result"
    }
   ],
   "source": [
    "Isp_review.columns #untuk melihat terdapat kolom apa saja"
   ]
  },
  {
   "cell_type": "code",
   "execution_count": 49,
   "metadata": {},
   "outputs": [],
   "source": [
    "df = pd.DataFrame(Isp_review)\n",
    "#df.head() #untuk melihat isi csv 5 baris teratas\n",
    "df[\"Tweet\"] = df['Tweet'].astype(str) #mengubah kolom tweet jadi string"
   ]
  },
  {
   "cell_type": "code",
   "execution_count": 50,
   "metadata": {},
   "outputs": [
    {
     "data": {
      "text/plain": [
       "'@IndiHome MASIH CACAAAATTTTTTTTTT https://t.co/sSwv3qaMsZ'"
      ]
     },
     "execution_count": 50,
     "metadata": {},
     "output_type": "execute_result"
    }
   ],
   "source": [
    "df['Tweet'][0] #tweet pertama dimulai dari index ke 0, jadi [0] = melihat tweet pertama "
   ]
  },
  {
   "cell_type": "code",
   "execution_count": 51,
   "metadata": {},
   "outputs": [
    {
     "data": {
      "text/plain": [
       "'indihome masih cacaaaatttttttttt httpstcosswvqamsz'"
      ]
     },
     "execution_count": 51,
     "metadata": {},
     "output_type": "execute_result"
    }
   ],
   "source": [
    "df['Tweet'] = df['Tweet'].str.replace('<.*?>', '') #hapus HTML Tag\n",
    "\n",
    "df['Tweet'] = df['Tweet'].str.replace('\\d+', '') #Hapus Angka\n",
    "\n",
    "df['Tweet'] = df['Tweet'].str.replace('[^\\w\\s]', '') #Hapus Spesial Karakter\n",
    "\n",
    "#lowercas\n",
    "df['Tweet'] = df['Tweet'].apply(lambda x: \" \".join(x.lower() for x in x.split()))\n",
    "\n",
    "df['Tweet'][0]"
   ]
  },
  {
   "cell_type": "code",
   "execution_count": 53,
   "metadata": {},
   "outputs": [
    {
     "data": {
      "text/plain": [
       "'hi sobat cobain yuk fiturfitur menarik dari aplikasi useetv go nonton acara favorit jadi makin seru selama httpstcopowutde'"
      ]
     },
     "execution_count": 53,
     "metadata": {},
     "output_type": "execute_result"
    }
   ],
   "source": [
    "df['Tweet'][10]"
   ]
  },
  {
   "cell_type": "code",
   "execution_count": 59,
   "metadata": {},
   "outputs": [
    {
     "data": {
      "text/plain": [
       "'hi sobat cobain yuk fiturfitur menarik aplikasi useetv go nonton acara favorit seru httpstcopowutde'"
      ]
     },
     "execution_count": 59,
     "metadata": {},
     "output_type": "execute_result"
    }
   ],
   "source": [
    "stop = stopwords.words('indonesian')\n",
    "df['Tweet'] = df['Tweet'].apply(lambda x: \" \".join(x for x in x.split() if x not in stop))\n",
    "df['Tweet'][10]"
   ]
  },
  {
   "cell_type": "code",
   "execution_count": 62,
   "metadata": {},
   "outputs": [
    {
     "data": {
      "text/html": [
       "<div>\n",
       "<style scoped>\n",
       "    .dataframe tbody tr th:only-of-type {\n",
       "        vertical-align: middle;\n",
       "    }\n",
       "\n",
       "    .dataframe tbody tr th {\n",
       "        vertical-align: top;\n",
       "    }\n",
       "\n",
       "    .dataframe thead th {\n",
       "        text-align: right;\n",
       "    }\n",
       "</style>\n",
       "<table border=\"1\" class=\"dataframe\">\n",
       "  <thead>\n",
       "    <tr style=\"text-align: right;\">\n",
       "      <th></th>\n",
       "      <th>Tgl</th>\n",
       "      <th>Tweet</th>\n",
       "    </tr>\n",
       "  </thead>\n",
       "  <tbody>\n",
       "    <tr>\n",
       "      <th>81752</th>\n",
       "      <td>6/5/2020 0:10</td>\n",
       "      <td>indihome dear kawan bantu follow up eskalasi r...</td>\n",
       "    </tr>\n",
       "    <tr>\n",
       "      <th>81753</th>\n",
       "      <td>NaN</td>\n",
       "      <td>nan</td>\n",
       "    </tr>\n",
       "    <tr>\n",
       "      <th>81754</th>\n",
       "      <td>6/5/2020 0:09</td>\n",
       "      <td>gimanna ni belom dibenerin indihome cek dm</td>\n",
       "    </tr>\n",
       "    <tr>\n",
       "      <th>81755</th>\n",
       "      <td>NaN</td>\n",
       "      <td>nan</td>\n",
       "    </tr>\n",
       "    <tr>\n",
       "      <th>81756</th>\n",
       "      <td>6/5/2020 0:07</td>\n",
       "      <td>indihome min liat tanggal jatuh tempo pembayar...</td>\n",
       "    </tr>\n",
       "  </tbody>\n",
       "</table>\n",
       "</div>"
      ],
      "text/plain": [
       "                 Tgl                                              Tweet\n",
       "81752  6/5/2020 0:10  indihome dear kawan bantu follow up eskalasi r...\n",
       "81753            NaN                                                nan\n",
       "81754  6/5/2020 0:09         gimanna ni belom dibenerin indihome cek dm\n",
       "81755            NaN                                                nan\n",
       "81756  6/5/2020 0:07  indihome min liat tanggal jatuh tempo pembayar..."
      ]
     },
     "execution_count": 62,
     "metadata": {},
     "output_type": "execute_result"
    }
   ],
   "source": [
    "df.tail()"
   ]
  },
  {
   "cell_type": "code",
   "execution_count": 67,
   "metadata": {},
   "outputs": [],
   "source": [
    "df.to_csv(\"Data_HslPreProcessing.csv\") #Save Hasil PreProcessing Ke file csv baru"
   ]
  },
  {
   "cell_type": "code",
   "execution_count": 68,
   "metadata": {},
   "outputs": [
    {
     "data": {
      "text/html": [
       "<div>\n",
       "<style scoped>\n",
       "    .dataframe tbody tr th:only-of-type {\n",
       "        vertical-align: middle;\n",
       "    }\n",
       "\n",
       "    .dataframe tbody tr th {\n",
       "        vertical-align: top;\n",
       "    }\n",
       "\n",
       "    .dataframe thead th {\n",
       "        text-align: right;\n",
       "    }\n",
       "</style>\n",
       "<table border=\"1\" class=\"dataframe\">\n",
       "  <thead>\n",
       "    <tr style=\"text-align: right;\">\n",
       "      <th></th>\n",
       "      <th>Unnamed: 0</th>\n",
       "      <th>Tgl</th>\n",
       "      <th>Tweet</th>\n",
       "    </tr>\n",
       "  </thead>\n",
       "  <tbody>\n",
       "    <tr>\n",
       "      <th>0</th>\n",
       "      <td>0</td>\n",
       "      <td>6/13/2020 5:01</td>\n",
       "      <td>indihome cacaaaatttttttttt httpstcosswvqamsz</td>\n",
       "    </tr>\n",
       "    <tr>\n",
       "      <th>1</th>\n",
       "      <td>1</td>\n",
       "      <td>NaN</td>\n",
       "      <td>NaN</td>\n",
       "    </tr>\n",
       "    <tr>\n",
       "      <th>2</th>\n",
       "      <td>2</td>\n",
       "      <td>6/13/2020 5:01</td>\n",
       "      <td>pagi min indihome refund uang full mohon penje...</td>\n",
       "    </tr>\n",
       "    <tr>\n",
       "      <th>3</th>\n",
       "      <td>3</td>\n",
       "      <td>NaN</td>\n",
       "      <td>NaN</td>\n",
       "    </tr>\n",
       "    <tr>\n",
       "      <th>4</th>\n",
       "      <td>4</td>\n",
       "      <td>6/13/2020 5:01</td>\n",
       "      <td>indihome min internet mati lampu pon warna mer...</td>\n",
       "    </tr>\n",
       "    <tr>\n",
       "      <th>...</th>\n",
       "      <td>...</td>\n",
       "      <td>...</td>\n",
       "      <td>...</td>\n",
       "    </tr>\n",
       "    <tr>\n",
       "      <th>81752</th>\n",
       "      <td>81752</td>\n",
       "      <td>6/5/2020 0:10</td>\n",
       "      <td>indihome dear kawan bantu follow up eskalasi r...</td>\n",
       "    </tr>\n",
       "    <tr>\n",
       "      <th>81753</th>\n",
       "      <td>81753</td>\n",
       "      <td>NaN</td>\n",
       "      <td>NaN</td>\n",
       "    </tr>\n",
       "    <tr>\n",
       "      <th>81754</th>\n",
       "      <td>81754</td>\n",
       "      <td>6/5/2020 0:09</td>\n",
       "      <td>gimanna ni belom dibenerin indihome cek dm</td>\n",
       "    </tr>\n",
       "    <tr>\n",
       "      <th>81755</th>\n",
       "      <td>81755</td>\n",
       "      <td>NaN</td>\n",
       "      <td>NaN</td>\n",
       "    </tr>\n",
       "    <tr>\n",
       "      <th>81756</th>\n",
       "      <td>81756</td>\n",
       "      <td>6/5/2020 0:07</td>\n",
       "      <td>indihome min liat tanggal jatuh tempo pembayar...</td>\n",
       "    </tr>\n",
       "  </tbody>\n",
       "</table>\n",
       "<p>81757 rows × 3 columns</p>\n",
       "</div>"
      ],
      "text/plain": [
       "       Unnamed: 0             Tgl  \\\n",
       "0               0  6/13/2020 5:01   \n",
       "1               1             NaN   \n",
       "2               2  6/13/2020 5:01   \n",
       "3               3             NaN   \n",
       "4               4  6/13/2020 5:01   \n",
       "...           ...             ...   \n",
       "81752       81752   6/5/2020 0:10   \n",
       "81753       81753             NaN   \n",
       "81754       81754   6/5/2020 0:09   \n",
       "81755       81755             NaN   \n",
       "81756       81756   6/5/2020 0:07   \n",
       "\n",
       "                                                   Tweet  \n",
       "0           indihome cacaaaatttttttttt httpstcosswvqamsz  \n",
       "1                                                    NaN  \n",
       "2      pagi min indihome refund uang full mohon penje...  \n",
       "3                                                    NaN  \n",
       "4      indihome min internet mati lampu pon warna mer...  \n",
       "...                                                  ...  \n",
       "81752  indihome dear kawan bantu follow up eskalasi r...  \n",
       "81753                                                NaN  \n",
       "81754         gimanna ni belom dibenerin indihome cek dm  \n",
       "81755                                                NaN  \n",
       "81756  indihome min liat tanggal jatuh tempo pembayar...  \n",
       "\n",
       "[81757 rows x 3 columns]"
      ]
     },
     "execution_count": 68,
     "metadata": {},
     "output_type": "execute_result"
    }
   ],
   "source": [
    "pd.read_csv(\"Data_HslPreProcessing.csv\") #cek Hasilnya di file csv baru"
   ]
  },
  {
   "cell_type": "code",
   "execution_count": null,
   "metadata": {},
   "outputs": [],
   "source": []
  }
 ],
 "metadata": {
  "kernelspec": {
   "display_name": "Python 3",
   "language": "python",
   "name": "python3"
  },
  "language_info": {
   "codemirror_mode": {
    "name": "ipython",
    "version": 3
   },
   "file_extension": ".py",
   "mimetype": "text/x-python",
   "name": "python",
   "nbconvert_exporter": "python",
   "pygments_lexer": "ipython3",
   "version": "3.7.6"
  }
 },
 "nbformat": 4,
 "nbformat_minor": 4
}
